{
 "cells": [
  {
   "cell_type": "markdown",
   "metadata": {},
   "source": [
    "### Regular Expression\n",
    " - Pattern Matching\n",
    " - Patterbn(re) package\n",
    " - cap symbol is used to represent start of re\n",
    " - dollar represents end of re\n",
    " - [0-9] --> any digits matching\n",
    " - Five digit number (^[0-9]{5}$)\n",
    " "
   ]
  },
  {
   "cell_type": "code",
   "execution_count": 1,
   "metadata": {},
   "outputs": [
    {
     "name": "stdout",
     "output_type": "stream",
     "text": [
      "False\n",
      "True\n"
     ]
    }
   ],
   "source": [
    "# Function to test two digit number matching\n",
    "import re\n",
    "def twoDigitMatching(n):\n",
    "    pattern='^[0-9]{2}$'\n",
    "    n=str(n)\n",
    "    if re.match(pattern,n):\n",
    "        return True\n",
    "    return False\n",
    "print(twoDigitMatching(1290))# True\n",
    "print(twoDigitMatching(13))# False"
   ]
  },
  {
   "cell_type": "markdown",
   "metadata": {},
   "source": [
    "### Regular Expressions for Characters\n",
    "- [a-z] --> any lower case characters.\n",
    "- [A-Z] --> any upper case characters.\n",
    "- ^[a-z]{5}dollar --> it accept 5 lower case characters.\n",
    "- ^[a-zA-Z0-9]{8}dollar --accept 8 characters can be anything lower upper and numbers."
   ]
  },
  {
   "cell_type": "code",
   "execution_count": 2,
   "metadata": {},
   "outputs": [
    {
     "name": "stdout",
     "output_type": "stream",
     "text": [
      "True\n",
      "False\n"
     ]
    }
   ],
   "source": [
    "# Function to define to test username having 8 characters \n",
    "# Upper case and Lower case\n",
    "def testUsername(s):\n",
    "    pattern='^[a-zA-Z]{8}$'\n",
    "    if re.match(pattern,s):\n",
    "        return True\n",
    "    return False\n",
    "print(testUsername('Gitamhyd'))\n",
    "print(testUsername('gitam234'))"
   ]
  },
  {
   "cell_type": "markdown",
   "metadata": {},
   "source": [
    "### Regular Expressions to match the indian mobile number:\n",
    "- 10 digits\n",
    "- (firstdigits will be [6-9] and remaining will be [0-9]\n",
    "- re(cap[6-9][0-9]{9}dollar)\n",
    "- example:9878987567\n",
    "- re(cap[9][1][6-9][0-9]{9}dollar)\n",
    "- example:919876543210"
   ]
  },
  {
   "cell_type": "code",
   "execution_count": 3,
   "metadata": {},
   "outputs": [
    {
     "name": "stdout",
     "output_type": "stream",
     "text": [
      "True\n"
     ]
    }
   ],
   "source": [
    "# Function to validate the indian mobile number\n",
    "def phoneNumberValidation(phone):\n",
    "    pattern='^[6-9][0-9]{9}$|^[0][6-9][0-9]{9}$|^[+][9][1][6-9][0-9]{9}$'\n",
    "    phone=str(phone)\n",
    "    if re.match(pattern,phone):\n",
    "        return True\n",
    "    return False\n",
    "print(phoneNumberValidation('+918203986669'))"
   ]
  },
  {
   "cell_type": "markdown",
   "metadata": {},
   "source": [
    "- Regular expression for validation of roll number\n",
    "   - example:152A8343\n",
    "   - example:152A0108\n",
    "   - example:152A0501\n",
    "- Regular expression to validate the password\n",
    "   - parameters:len min of 6 characters and max of 15 characters\n",
    "   - accept lower case,upper case,digits,spl char(@,#,$)"
   ]
  },
  {
   "cell_type": "markdown",
   "metadata": {},
   "source": [
    "### Email Id validation Regular Expression\n",
    "- Example: Username@Domainname.Extension\n",
    "- Username:\n",
    "      - Length will be [6-15]\n",
    "      - No spls characters apart from underscorew(_)\n",
    "      - Should not begin and end with underscore(_)\n",
    "      Characters set: all digits and lower case\n",
    "- Domainname:\n",
    "      - Length will be [3-18]\n",
    "      - No spl characters\n",
    "      - Characters set: all digits and lower case\n",
    "- Extension:\n",
    "      - Length will be [2-4]\n",
    "      - no spl characters\n",
    "      - character set: lower case characters\n"
   ]
  },
  {
   "cell_type": "code",
   "execution_count": 4,
   "metadata": {},
   "outputs": [
    {
     "data": {
      "text/plain": [
       "True"
      ]
     },
     "execution_count": 4,
     "metadata": {},
     "output_type": "execute_result"
    }
   ],
   "source": [
    "def emailIdValidation(email):\n",
    "    pattern='^[0-9a-z][0-9a-z_.]{5,14}[@][a-z0-9]{3,18}[.][a-z]{2,4}$'\n",
    "    if re.match(pattern,email):\n",
    "        return True\n",
    "    return False\n",
    "emailIdValidation('navya12345@gmail.com')"
   ]
  }
 ],
 "metadata": {
  "kernelspec": {
   "display_name": "Python 3",
   "language": "python",
   "name": "python3"
  },
  "language_info": {
   "codemirror_mode": {
    "name": "ipython",
    "version": 3
   },
   "file_extension": ".py",
   "mimetype": "text/x-python",
   "name": "python",
   "nbconvert_exporter": "python",
   "pygments_lexer": "ipython3",
   "version": "3.7.3"
  }
 },
 "nbformat": 4,
 "nbformat_minor": 2
}
