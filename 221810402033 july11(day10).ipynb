{
 "cells": [
  {
   "cell_type": "markdown",
   "metadata": {},
   "source": [
    "### STANDARD LIBRARIES\n",
    " - file i/o\n",
    " - regular expression\n",
    " - datetime\n",
    " - math (numerical and mathematical)"
   ]
  },
  {
   "cell_type": "markdown",
   "metadata": {},
   "source": [
    "### File handling in python\n",
    " - file:- document containing information resides on the permanent storage\n",
    "   - different types of files:- txt,doc,pdf,csv and etc....\n",
    " * input -- keyboard\n",
    " * output -- file\n"
   ]
  },
  {
   "cell_type": "markdown",
   "metadata": {},
   "source": [
    "### Modes of the file i/o\n",
    "- 'w' -- this mode is used to file writing\n",
    "    --  if the file is not present first it creates the file and writes some data to it"
   ]
  },
  {
   "cell_type": "code",
   "execution_count": 1,
   "metadata": {},
   "outputs": [
    {
     "name": "stdout",
     "output_type": "stream",
     "text": [
      "testing...\n",
      "\n",
      "file is created and data has written\n"
     ]
    }
   ],
   "source": [
    "# function to create a file and write to the file\n",
    "def createfile(filename):\n",
    "    f = open(filename,'w')\n",
    "    print('testing...\\n')\n",
    "    print(\"file is created and data has written\")\n",
    "    return\n",
    "createfile('file1.txt')\n"
   ]
  },
  {
   "cell_type": "code",
   "execution_count": 13,
   "metadata": {},
   "outputs": [
    {
     "name": "stdout",
     "output_type": "stream",
     "text": [
      " Volume in drive C has no label.\n",
      " Volume Serial Number is F060-FC27\n",
      "\n",
      " Directory of C:\\Users\\comp02\n",
      "\n",
      "07/06/2019  04:53 AM             6,645 (roll-8).ipynb\n",
      "07/06/2019  09:02 PM    <DIR>          .\n",
      "07/06/2019  09:02 PM    <DIR>          ..\n",
      "06/19/2019  07:36 PM    <DIR>          .anaconda\n",
      "07/05/2019  01:24 AM             4,341 .bash_history\n",
      "07/06/2019  09:02 PM    <DIR>          .conda\n",
      "07/06/2019  07:12 PM                43 .condarc\n",
      "07/06/2019  06:23 PM    <DIR>          .ipynb_checkpoints\n",
      "06/19/2019  07:41 PM    <DIR>          .ipython\n",
      "06/19/2019  07:50 PM    <DIR>          .jupyter\n",
      "07/06/2019  03:00 AM            10,360 221810402033 july 5(day5).ipynb\n",
      "07/06/2019  03:00 AM            14,240 221810402033 july 8(day7).ipynb\n",
      "07/06/2019  10:59 AM            14,204 221810402033 july 9 (day 8).ipynb\n",
      "07/06/2019  05:19 PM            14,528 221810402033 july10(day9).ipynb\n",
      "07/06/2019  09:02 PM             5,615 221810402033 july11(day10).ipynb\n",
      "07/05/2019  11:14 AM             8,249 22810402033 july 6 (day6).ipynb\n",
      "06/19/2019  02:13 PM    <DIR>          Anaconda3\n",
      "06/19/2019  02:29 PM    <DIR>          Anaconda31\n",
      "07/06/2019  03:29 PM             2,183 assignment1.ipynb\n",
      "07/06/2019  05:10 PM             7,043 assignment2.ipynb\n",
      "07/10/2015  08:52 AM    <DIR>          Contacts\n",
      "07/06/2019  08:57 PM                36 data.txt\n",
      "07/06/2019  02:31 PM               134 debug.log\n",
      "07/06/2019  08:54 PM    <DIR>          Desktop\n",
      "07/06/2019  06:58 PM    <DIR>          Documents\n",
      "07/06/2019  07:21 PM    <DIR>          Downloads\n",
      "07/10/2015  08:52 AM    <DIR>          Favorites\n",
      "07/06/2019  08:57 PM                12 file1.txt\n",
      "07/06/2019  08:44 PM                42 file2.txt\n",
      "07/10/2015  08:52 AM    <DIR>          Links\n",
      "07/10/2015  08:52 AM    <DIR>          Music\n",
      "06/29/2019  07:28 AM    <DIR>          OneDrive\n",
      "06/29/2019  09:21 PM    <DIR>          Pictures\n",
      "06/29/2019  05:33 PM    <DIR>          problemsolving\n",
      "06/26/2019  09:46 PM    <DIR>          python\n",
      "07/10/2015  08:52 AM    <DIR>          Saved Games\n",
      "07/10/2015  08:54 AM    <DIR>          Searches\n",
      "06/28/2019  03:45 AM    <DIR>          Videos\n",
      "              15 File(s)         87,675 bytes\n",
      "              23 Dir(s)  225,173,286,912 bytes free\n"
     ]
    }
   ],
   "source": [
    "ls\n"
   ]
  },
  {
   "cell_type": "code",
   "execution_count": 14,
   "metadata": {},
   "outputs": [
    {
     "name": "stdout",
     "output_type": "stream",
     "text": [
      "file is created and data has entered\n"
     ]
    }
   ],
   "source": [
    "def createfile(filename):\n",
    "    f=open(filename,'w')\n",
    "    f.write('testing\\n')\n",
    "    print('file is created and data has entered')\n",
    "    return\n",
    "createfile('file1.txt')\n",
    "    "
   ]
  },
  {
   "cell_type": "code",
   "execution_count": 3,
   "metadata": {},
   "outputs": [
    {
     "name": "stdout",
     "output_type": "stream",
     "text": [
      "file created and successfully data written\n"
     ]
    }
   ],
   "source": [
    "def appenddata(filename):\n",
    "    f = open(filename,'a')\n",
    "    for i in range(10):\n",
    "        f.write(\"this is %d line\\n\" % i)\n",
    "        print(\"file created and successfully data written\")\n",
    "        return\n",
    "appenddata('file2.txt')    \n",
    "\n",
    "\n"
   ]
  },
  {
   "cell_type": "code",
   "execution_count": 15,
   "metadata": {},
   "outputs": [
    {
     "name": "stdout",
     "output_type": "stream",
     "text": [
      "this is 0 line\n",
      "new line 1 \n",
      "new line 2 \n",
      "\n"
     ]
    }
   ],
   "source": [
    "# function to read of the file\n",
    "def readfiledata(filename):\n",
    "    f = open(filename,'r')\n",
    "    if f.mode == 'r':\n",
    "        x = f.read()\n",
    "        print(x)\n",
    "    f.close()\n",
    "    return\n",
    "readfiledata('file2.txt')\n"
   ]
  },
  {
   "cell_type": "code",
   "execution_count": 8,
   "metadata": {},
   "outputs": [
    {
     "name": "stdout",
     "output_type": "stream",
     "text": [
      "enter the file namedata.txt\n",
      "enter the mode of the filea\n",
      "the data successfully written\n"
     ]
    }
   ],
   "source": [
    "# function to read the file\n",
    "def fileoperations(filename,mode):\n",
    "    with open(filename,mode) as f:\n",
    "        if f.mode == 'r':\n",
    "            data = f.read()\n",
    "            print(data)\n",
    "        elif f.mode == 'a':\n",
    "            f.write('data to the file\\n')\n",
    "            print('the data successfully written')\n",
    "        f.close       \n",
    "    return\n",
    "filename = input('enter the file name')\n",
    "mode = input('enter the mode of the file')\n",
    "fileoperations(filename,mode)\n",
    "\n",
    "\n"
   ]
  },
  {
   "cell_type": "code",
   "execution_count": 16,
   "metadata": {},
   "outputs": [
    {
     "name": "stdout",
     "output_type": "stream",
     "text": [
      "enter the file name:file2.txt\n",
      "enter the word : this\n"
     ]
    },
    {
     "data": {
      "text/plain": [
       "1"
      ]
     },
     "execution_count": 16,
     "metadata": {},
     "output_type": "execute_result"
    }
   ],
   "source": [
    "# data analysis\n",
    "# word count program\n",
    "def wordcount(filename,word):\n",
    "    with open(filename,'r') as f:\n",
    "        if f.mode == 'r' :\n",
    "            x =  f.read()\n",
    "            li = x.split()\n",
    "    cnt = li.count(word)        \n",
    "    return cnt\n",
    "filename = input('enter the file name:')\n",
    "word = input('enter the word : ')\n",
    "wordcount(filename,word)"
   ]
  },
  {
   "cell_type": "code",
   "execution_count": 18,
   "metadata": {},
   "outputs": [
    {
     "name": "stdout",
     "output_type": "stream",
     "text": [
      "enter the filename:file2.txt\n"
     ]
    },
    {
     "data": {
      "text/plain": [
       "39"
      ]
     },
     "execution_count": 18,
     "metadata": {},
     "output_type": "execute_result"
    }
   ],
   "source": [
    "# character count from the given file\n",
    "def charcount(filename):\n",
    "    with open(filename,'r') as f:\n",
    "        if f.mode=='r':\n",
    "            x=f.read()\n",
    "            li=list(x)\n",
    "    return len(li)\n",
    "filename=input('enter the filename:')\n",
    "charcount(filename)"
   ]
  },
  {
   "cell_type": "code",
   "execution_count": 23,
   "metadata": {},
   "outputs": [
    {
     "name": "stdout",
     "output_type": "stream",
     "text": [
      "['pytho', ' programmi', 'g']\n"
     ]
    }
   ],
   "source": [
    "s1 = \"python programming\"\n",
    "print(s1.split('n'))"
   ]
  },
  {
   "cell_type": "code",
   "execution_count": 24,
   "metadata": {},
   "outputs": [
    {
     "name": "stdout",
     "output_type": "stream",
     "text": [
      "enter the filename : file2.txt\n"
     ]
    },
    {
     "data": {
      "text/plain": [
       "4"
      ]
     },
     "execution_count": 24,
     "metadata": {},
     "output_type": "execute_result"
    }
   ],
   "source": [
    "# function to find the no of lines in the input file\n",
    "# Input -- filename(file2.txt)\n",
    "# output -- no of lines(12)\n",
    "def countoflines(filename):\n",
    "    with open(filename,'r') as f:\n",
    "        if f.mode == 'r':\n",
    "            x = f.read()\n",
    "            li = x.split(\"\\n\")\n",
    "    return len(li)\n",
    "filename = input('enter the filename : ')\n",
    "countoflines(filename)\n"
   ]
  },
  {
   "cell_type": "code",
   "execution_count": 28,
   "metadata": {},
   "outputs": [
    {
     "name": "stdout",
     "output_type": "stream",
     "text": [
      "enter the filename:file2.txt\n"
     ]
    },
    {
     "data": {
      "text/plain": [
       "'Upper Case= 0,Lower Case = 24'"
      ]
     },
     "execution_count": 28,
     "metadata": {},
     "output_type": "execute_result"
    }
   ],
   "source": [
    "# Function to print the upper case and lower charcters\n",
    "def casecount(filename):\n",
    "    cntUpper=0\n",
    "    cntLower=0\n",
    "    with open(filename,'r') as f:\n",
    "        if f.mode=='r':\n",
    "            x=f.read()\n",
    "            li=list(x)\n",
    "    for i in li:\n",
    "        if i.isupper():\n",
    "            cntUpper+=1 # cntUpper=cntUpper+1\n",
    "        elif i.islower():\n",
    "            cntLower+=1 # cntLower=cntLower+1\n",
    "    output='Upper Case= {0},Lower Case = {1}'.format(cntUpper,cntLower)\n",
    "    return output\n",
    "filename=input('enter the filename:')\n",
    "casecount(filename)\n",
    "        "
   ]
  },
  {
   "cell_type": "markdown",
   "metadata": {},
   "source": [
    "## Math,Random,.Os\n",
    " - os package :it contains the certain methods which work with OS"
   ]
  },
  {
   "cell_type": "code",
   "execution_count": 91,
   "metadata": {
    "scrolled": true
   },
   "outputs": [
    {
     "name": "stdout",
     "output_type": "stream",
     "text": [
      " Volume in drive C has no label.\n",
      " Volume Serial Number is F060-FC27\n",
      "\n",
      " Directory of C:\\Users\\comp02\\Desktop\\pythonprog\\git\n",
      "\n",
      "07/04/2019  07:08 PM    <DIR>          .\n",
      "07/04/2019  07:08 PM    <DIR>          ..\n",
      "07/04/2019  08:36 PM                41 data.txt\n",
      "07/04/2019  07:08 PM    <DIR>          gitam-python\n",
      "               1 File(s)             41 bytes\n",
      "               3 Dir(s)  225,163,739,136 bytes free\n"
     ]
    }
   ],
   "source": [
    "ls\n"
   ]
  },
  {
   "cell_type": "code",
   "execution_count": 116,
   "metadata": {},
   "outputs": [
    {
     "name": "stdout",
     "output_type": "stream",
     "text": [
      " Volume in drive C has no label.\n",
      " Volume Serial Number is F060-FC27\n",
      "\n",
      " Directory of C:\\Users\\comp02\\Desktop\\pythonprog\\git\n",
      "\n",
      "07/04/2019  07:08 PM    <DIR>          .\n",
      "07/04/2019  07:08 PM    <DIR>          ..\n",
      "07/04/2019  08:36 PM                41 data.txt\n",
      "07/04/2019  07:08 PM    <DIR>          gitam-python\n",
      "               1 File(s)             41 bytes\n",
      "               3 Dir(s)  225,162,625,024 bytes free\n"
     ]
    }
   ],
   "source": [
    "ls"
   ]
  },
  {
   "cell_type": "markdown",
   "metadata": {},
   "source": [
    " - Older version--os.listdir()\n",
    " - New version-- os.scandirand pathlib.path()"
   ]
  },
  {
   "cell_type": "markdown",
   "metadata": {},
   "source": [
    "### Listing all files in a Directory"
   ]
  },
  {
   "cell_type": "code",
   "execution_count": 143,
   "metadata": {},
   "outputs": [
    {
     "name": "stdout",
     "output_type": "stream",
     "text": [
      "C:\\Users\\comp02\\Desktop\\pythonprog\n"
     ]
    }
   ],
   "source": [
    "cd \\Users\\comp02\\Desktop\\pythonprog"
   ]
  },
  {
   "cell_type": "code",
   "execution_count": 153,
   "metadata": {},
   "outputs": [
    {
     "data": {
      "text/plain": [
       "'C:\\\\Users\\\\comp02\\\\Desktop\\\\pythonprog'"
      ]
     },
     "execution_count": 153,
     "metadata": {},
     "output_type": "execute_result"
    }
   ],
   "source": [
    "pwd"
   ]
  },
  {
   "cell_type": "code",
   "execution_count": 183,
   "metadata": {},
   "outputs": [
    {
     "ename": "TypeError",
     "evalue": "'WindowsPath' object is not iterable",
     "output_type": "error",
     "traceback": [
      "\u001b[1;31m---------------------------------------------------------------------------\u001b[0m",
      "\u001b[1;31mTypeError\u001b[0m                                 Traceback (most recent call last)",
      "\u001b[1;32m<ipython-input-183-06d396e92aca>\u001b[0m in \u001b[0;36m<module>\u001b[1;34m\u001b[0m\n\u001b[0;32m      1\u001b[0m \u001b[1;32mimport\u001b[0m \u001b[0mos\u001b[0m\u001b[1;33m\u001b[0m\u001b[1;33m\u001b[0m\u001b[0m\n\u001b[0;32m      2\u001b[0m \u001b[0mos\u001b[0m\u001b[1;33m.\u001b[0m\u001b[0mlistdir\u001b[0m\u001b[1;33m(\u001b[0m\u001b[1;34m'\\\\Users\\\\comp02\\\\Desktop\\\\pythonprog\\\\git'\u001b[0m\u001b[1;33m)\u001b[0m \u001b[1;31m# listdir() --ls\u001b[0m\u001b[1;33m\u001b[0m\u001b[1;33m\u001b[0m\u001b[0m\n\u001b[1;32m----> 3\u001b[1;33m \u001b[1;32mfor\u001b[0m \u001b[0mi\u001b[0m \u001b[1;32min\u001b[0m \u001b[0mli\u001b[0m\u001b[1;33m:\u001b[0m\u001b[1;33m\u001b[0m\u001b[1;33m\u001b[0m\u001b[0m\n\u001b[0m\u001b[0;32m      4\u001b[0m     \u001b[0mprint\u001b[0m\u001b[1;33m(\u001b[0m\u001b[0mi\u001b[0m\u001b[1;33m)\u001b[0m\u001b[1;33m\u001b[0m\u001b[1;33m\u001b[0m\u001b[0m\n",
      "\u001b[1;31mTypeError\u001b[0m: 'WindowsPath' object is not iterable"
     ]
    }
   ],
   "source": [
    "import os\n",
    "os.listdir('\\\\Users\\\\comp02\\\\Desktop\\\\pythonprog\\\\git') # listdir() --ls\n",
    "for i in li:\n",
    "    print(i)"
   ]
  },
  {
   "cell_type": "code",
   "execution_count": 145,
   "metadata": {},
   "outputs": [
    {
     "name": "stdout",
     "output_type": "stream",
     "text": [
      ".git\n",
      "data.txt\n",
      "gitam-python\n"
     ]
    }
   ],
   "source": [
    "from pathlib import Path\n",
    "li=Path('git/')\n",
    "for i in li.iterdir():\n",
    "    print(i.name)"
   ]
  },
  {
   "cell_type": "code",
   "execution_count": 146,
   "metadata": {},
   "outputs": [
    {
     "name": "stdout",
     "output_type": "stream",
     "text": [
      "data.txt\n"
     ]
    }
   ],
   "source": [
    "import os\n",
    "dirPath='git/'\n",
    "with os.scandir(dirPath) as f:\n",
    "    for i in f:\n",
    "        if i.is_file():\n",
    "            print(i.name)\n",
    "\n"
   ]
  },
  {
   "cell_type": "markdown",
   "metadata": {},
   "source": [
    "### Listing Subdirectories"
   ]
  },
  {
   "cell_type": "code",
   "execution_count": 148,
   "metadata": {},
   "outputs": [
    {
     "name": "stdout",
     "output_type": "stream",
     "text": [
      ".git\n",
      "gitam-python\n"
     ]
    }
   ],
   "source": [
    "dirPath='git/'\n",
    "for i in os.listdir(dirPath):\n",
    "    if os.path.isdir(os.path.join(dirPath,i)):\n",
    "        print(i)"
   ]
  },
  {
   "cell_type": "markdown",
   "metadata": {},
   "source": [
    "### Creating a Single Directory"
   ]
  },
  {
   "cell_type": "code",
   "execution_count": 149,
   "metadata": {},
   "outputs": [],
   "source": [
    "import os\n",
    "os.mkdir('Single Directory')"
   ]
  },
  {
   "cell_type": "code",
   "execution_count": 150,
   "metadata": {},
   "outputs": [],
   "source": [
    "import pathlib\n",
    "p=pathlib.Path('TestFolder')\n",
    "p.mkdir()"
   ]
  },
  {
   "cell_type": "code",
   "execution_count": 151,
   "metadata": {},
   "outputs": [
    {
     "name": "stdout",
     "output_type": "stream",
     "text": [
      " Volume in drive C has no label.\n",
      " Volume Serial Number is F060-FC27\n",
      "\n",
      " Directory of C:\\Users\\comp02\\Desktop\\pythonprog\n",
      "\n",
      "07/07/2019  12:08 AM    <DIR>          .\n",
      "07/07/2019  12:08 AM    <DIR>          ..\n",
      "07/04/2019  07:08 PM    <DIR>          git\n",
      "07/07/2019  12:08 AM    <DIR>          Single Directory\n",
      "07/07/2019  12:08 AM    <DIR>          TestFolder\n",
      "               0 File(s)              0 bytes\n",
      "               5 Dir(s)  225,171,419,136 bytes free\n"
     ]
    }
   ],
   "source": [
    "ls"
   ]
  },
  {
   "cell_type": "markdown",
   "metadata": {},
   "source": [
    "### Creating Multiple Directories"
   ]
  },
  {
   "cell_type": "code",
   "execution_count": 154,
   "metadata": {},
   "outputs": [],
   "source": [
    "import os\n",
    "os.makedirs('2019/July/11')"
   ]
  },
  {
   "cell_type": "code",
   "execution_count": 155,
   "metadata": {},
   "outputs": [
    {
     "name": "stdout",
     "output_type": "stream",
     "text": [
      " Volume in drive C has no label.\n",
      " Volume Serial Number is F060-FC27\n",
      "\n",
      " Directory of C:\\Users\\comp02\\Desktop\\pythonprog\n",
      "\n",
      "07/07/2019  12:11 AM    <DIR>          .\n",
      "07/07/2019  12:11 AM    <DIR>          ..\n",
      "07/07/2019  12:11 AM    <DIR>          2019\n",
      "07/04/2019  07:08 PM    <DIR>          git\n",
      "07/07/2019  12:08 AM    <DIR>          Single Directory\n",
      "07/07/2019  12:08 AM    <DIR>          TestFolder\n",
      "               0 File(s)              0 bytes\n",
      "               6 Dir(s)  225,171,361,792 bytes free\n"
     ]
    }
   ],
   "source": [
    "ls\n"
   ]
  },
  {
   "cell_type": "code",
   "execution_count": 166,
   "metadata": {},
   "outputs": [],
   "source": [
    "import os\n",
    "dirPath = 'git/'\n",
    "for f_name in os.listdir(dirpath):\n",
    "    if f_name.startswith(\"0\"):\n",
    "        print(f_name)\n"
   ]
  },
  {
   "cell_type": "markdown",
   "metadata": {},
   "source": [
    "### Deleting Files and Directories"
   ]
  },
  {
   "cell_type": "code",
   "execution_count": 172,
   "metadata": {},
   "outputs": [
    {
     "name": "stdout",
     "output_type": "stream",
     "text": [
      " Volume in drive C has no label.\n",
      " Volume Serial Number is F060-FC27\n",
      "\n",
      " Directory of C:\\Users\\comp02\\Desktop\\pythonprog\n",
      "\n",
      "07/07/2019  12:11 AM    <DIR>          .\n",
      "07/07/2019  12:11 AM    <DIR>          ..\n",
      "07/07/2019  12:11 AM    <DIR>          2019\n",
      "07/04/2019  07:08 PM    <DIR>          git\n",
      "07/07/2019  12:08 AM    <DIR>          Single Directory\n",
      "07/07/2019  12:08 AM    <DIR>          TestFolder\n",
      "               0 File(s)              0 bytes\n",
      "               6 Dir(s)  225,168,248,832 bytes free\n"
     ]
    }
   ],
   "source": [
    "ls"
   ]
  },
  {
   "cell_type": "code",
   "execution_count": 176,
   "metadata": {},
   "outputs": [],
   "source": [
    "import os\n",
    "data_file='\\\\Users\\\\comp02\\\\Desktop\\\\pythonprog\\\\git\\\\data.txt' # give the entire path c:\\\\users\\\\comp02\\\\Desktop\\\\pythonprog\\\\git\n",
    "os.remove(data_file)"
   ]
  },
  {
   "cell_type": "code",
   "execution_count": 187,
   "metadata": {},
   "outputs": [],
   "source": [
    "import shutil # Delete the tree of structure of folder \n",
    "data_dir='2019'\n",
    "shutil.rmtree(data_dir)"
   ]
  },
  {
   "cell_type": "markdown",
   "metadata": {},
   "source": [
    "### Regular Expressions\n",
    " - Used vto specific Pattern matching :\n",
    " - Symbolic notations of pattern\n",
    "     -Patterns(RE) represents set of values\n",
    "     "
   ]
  },
  {
   "cell_type": "code",
   "execution_count": 184,
   "metadata": {},
   "outputs": [
    {
     "name": "stdout",
     "output_type": "stream",
     "text": [
      "value inside the function: 10\n",
      "value outside the function: 20\n"
     ]
    }
   ],
   "source": [
    "def my_func():\n",
    "        x=10\n",
    "        print(\"value inside the function:\",x)\n",
    "x=20\n",
    "my_func()\n",
    "print(\"value outside the function:\",x)"
   ]
  },
  {
   "cell_type": "code",
   "execution_count": null,
   "metadata": {},
   "outputs": [],
   "source": []
  }
 ],
 "metadata": {
  "kernelspec": {
   "display_name": "Python 3",
   "language": "python",
   "name": "python3"
  },
  "language_info": {
   "codemirror_mode": {
    "name": "ipython",
    "version": 3
   },
   "file_extension": ".py",
   "mimetype": "text/x-python",
   "name": "python",
   "nbconvert_exporter": "python",
   "pygments_lexer": "ipython3",
   "version": "3.7.3"
  }
 },
 "nbformat": 4,
 "nbformat_minor": 2
}
